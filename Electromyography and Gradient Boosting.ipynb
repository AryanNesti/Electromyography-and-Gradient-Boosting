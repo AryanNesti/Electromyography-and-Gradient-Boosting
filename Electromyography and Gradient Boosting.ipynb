{
  "nbformat": 4,
  "nbformat_minor": 0,
  "metadata": {
    "colab": {
      "provenance": [],
      "authorship_tag": "ABX9TyMYiCY1yqIq4QRtm2aOtfea",
      "include_colab_link": true
    },
    "kernelspec": {
      "name": "python3",
      "display_name": "Python 3"
    },
    "language_info": {
      "name": "python"
    },
    "accelerator": "GPU",
    "gpuClass": "standard"
  },
  "cells": [
    {
      "cell_type": "markdown",
      "metadata": {
        "id": "view-in-github",
        "colab_type": "text"
      },
      "source": [
        "<a href=\"https://colab.research.google.com/github/AryanNesti/Electromyography-and-Gradient-Boosting/blob/main/Electromyography%20and%20Gradient%20Boosting.ipynb\" target=\"_parent\"><img src=\"https://colab.research.google.com/assets/colab-badge.svg\" alt=\"Open In Colab\"/></a>"
      ]
    },
    {
      "cell_type": "markdown",
      "source": [
        "# Electromyography and Gradient Boosting\n",
        "## Background and Documentation\n",
        "### Gradient Boosting\n",
        "#### History\n",
        "Graident boosing is very popular and you will most likley see it more often if you are continuing a future in machine learning. The most common recipe for Gradient Boosting is XGBoost which is the standard for winning machine learning competitions. The idea of Gradient Boosting came from can we make a strong model using these simplier/weaker models. Before gradient boosting there was a model called Adaboost which was a greedy algorithm that build a linear combination of simple models by re-weighing the input data. Then, the model (usually a decision tree) is built on earlier incorrectly predicted objects, which are now given larger weights. Adaboost worked miracles but with little explanation at the time to its miracles people though it was just overfitting. This overfitting problem did exist and thats why a few professors in the statistics department at Stanford, who had created Lasso, Elastic Net, and Random Forest, created Gradient Boosting Machine. \n",
        "\n",
        "#### How Gradient Boosting Works\n",
        "Gradient boosting models combines the work of several weaker models o create a strong model.  Gradient boosting optimizes the mean squared error (MSE), also called the L2 loss or cost. The more weaker models used the more the MSE is reduced. To construct a boosted regression model, let's start by creating a crappy model, $f_{0}(x)$ , that predicts an initial approximation of $y$ given feature vector . Then, let's gradually nudge the overall $F_{m}(x)$ model towards the known target value y by adding one or more tweaks, $\\Delta_m(x)$. Therefore \n",
        "$$\\hat{y}= f_{0}(x) + \\Delta_1(x) + \\Delta_2(x) + \\Delta_3(x) +\\ ... \\ + \\Delta_M(x)$$ \n",
        "Optimizing a model according to MSE makes it chase outliers because squaring the difference between targets and predicted values emphasizes extreme values. When we can't remove outliers, it's better to optimize the mean absolute error.\n",
        "\n",
        "#### Gradient Boosting Regression\n",
        "Gradient Boosting regression would be a similar case \n",
        "to Gradient Boosting, however we now involve the learning rate.\n",
        "$$ F_m(X) = F_{m-1}(X) + ηΔ_m(X) $$\n",
        "therefore:\n",
        "$$F_1(X) = F_{0} + ηΔ_1(X),  F_2(X) = F_{1} + ηΔ_2(X),$$\n",
        "\n",
        "#### Modeling Performance\n",
        "To answer that, we need a loss or cost function, $L(y,\\hat{y})$ or $L(y_i,\\hat{y}_i)$, that computes the cost of predicting $\\hat{y}$ instead of $y$. The loss across all $N$ observations is just the average (or the sum if you want since $N$ is a constant once we start training) of all the individual observation losses:\n",
        "$$L(y, F_M(X)) = \\frac{1}{N}Σ^{N}_{i = 1}L(y_i- F_M(x_i))$$\n",
        "The mean squared error (MSE) is the most common:\n",
        "$$L(y, F_M(X)) = \\frac{1}{N}Σ^{N}_{i = 1}(y_i- F_M(x_i))^2$$\n",
        "\n",
        "#### Hyper-parameters\n",
        "The two parameters we discuss are the number of stages M and the learning rate . Both affect model accuracy. The more stages we use, the more accurate the model, but the more likely we are to be overfitting. The primary value of the learning rate is to reduce overfitting of the overall model. As a side note, the idea of using a learning rate to reduce overfitting in models that optimize cost functions to learn, such as deep learning neural networks, is very common. Rather than using a constant learning rate, though, we could start the learning rate out energetically and gradually slow it down as the model approached optimality. For our experiments we stuck to a fixed parameters:\n",
        "$$M = 200, η = 1$$ (which is the default learning rate for the decision tree we are using.)"
      ],
      "metadata": {
        "id": "-ynI4IMQrGy1"
      }
    },
    {
      "cell_type": "markdown",
      "source": [
        "The most common recipe for Gradient Boosting is XGBoost which is the standard for winning machine learning competitions. However here we will use Sklearn DecisionTreeClassifier and develop our own gradient boosting from scratch."
      ],
      "metadata": {
        "id": "JZjB1f7wvfFm"
      }
    },
    {
      "cell_type": "markdown",
      "source": [
        "## Coding from scratch using JAX"
      ],
      "metadata": {
        "id": "dflp2nTr-rEJ"
      }
    },
    {
      "cell_type": "code",
      "execution_count": 89,
      "metadata": {
        "id": "EzictML7qovt",
        "colab": {
          "base_uri": "https://localhost:8080/",
          "height": 316
        },
        "outputId": "0cce02a3-e314-48ac-b75f-4cdf8c5850fc"
      },
      "outputs": [
        {
          "output_type": "stream",
          "name": "stdout",
          "text": [
            "fatal: destination path 'data-science-from-scratch' already exists and is not an empty directory.\n",
            "mv: cannot move 'data-science-from-scratch' to 'dsfs/data-science-from-scratch': Directory not empty\n"
          ]
        },
        {
          "output_type": "display_data",
          "data": {
            "text/plain": [
              "<Figure size 432x288 with 1 Axes>"
            ],
            "image/png": "[encoded data removed]"
          },
          "metadata": {
            "needs_background": "light"
          }
        },
        {
          "output_type": "display_data",
          "data": {
            "text/plain": [
              "<Figure size 720x720 with 0 Axes>"
            ]
          },
          "metadata": {}
        }
      ],
      "source": [
        "import jax.numpy as jnp\n",
        "from jax import jit\n",
        "import jax\n",
        "import xgboost as xgb\n",
        "import matplotlib.pyplot as plt\n",
        "import pandas as pd\n",
        "! git clone https://github.com/joelgrus/data-science-from-scratch\n",
        "! mv data-science-from-scratch dsfs\n",
        "from dsfs.scratch import decision_trees as sdt\n",
        "import seaborn as sns\n",
        "import numpy as np\n",
        "from sklearn.model_selection import train_test_split\n",
        "\n",
        "# set the number of examples\n",
        "number_of_examples = 300\n",
        "\n",
        "# fix the seed for reproducibility\n",
        "key = jax.random.PRNGKey(42)\n",
        "\n",
        "# generate features\n",
        "X = jnp.linspace(-5, 5, number_of_examples)\n",
        "\n",
        "# generate target\n",
        "y = jnp.array(list(map(lambda x: 1.0 if jnp.cos(x) >= 0 else -1.0, X)))\n",
        "epsilon = 0.05\n",
        "# y += epsilon * np.random.randn(number_of_examples)\n",
        "y += epsilon * jax.random.uniform(key, shape=(number_of_examples,))\n",
        "\n",
        "# create pandas.DataFrame\n",
        "data = pd.DataFrame(data=jnp.stack([X, y], axis=1), columns=[\"X\", \"y\"])\n",
        "data = data.astype({'X': float, 'y': float})\n",
        "data.head()\n",
        "\n",
        "# Splitting data 70 and 30\n",
        "X_train, X_test, y_train, y_test = train_test_split(data[['X']], data[['y']], test_size=0.3, random_state=42)\n",
        "X_train, y_train = X_train.sort_index(), y_train.sort_index()\n",
        "X_test, y_test = X_test.sort_index(), y_test.sort_index()\n",
        "y_train = jnp.round_(jnp.array(y_train)[:,0])\n",
        "\n",
        "# Plotting the data\n",
        "plt.scatter(X, y, c =\"red\", alpha=0.6)\n",
        "plt.figure(figsize=(10, 10))\n",
        "plt.show()"
      ]
    },
    {
      "cell_type": "markdown",
      "source": [
        "We implement gradient boosting as explained above, we keep the learning rate default and max_depth of 1. Here we will save the models and then look at the accuracy of our model"
      ],
      "metadata": {
        "id": "v9Oi_yTWQMzK"
      }
    },
    {
      "cell_type": "code",
      "source": [
        "from sklearn.tree import DecisionTreeClassifier\n",
        "max_depth = 1\n",
        "\n",
        "# Training the sklearn DecisionTreeClassifier as Gradient Boosting\n",
        "F0 = y_train.mean().astype('int')\n",
        "Fm = F0\n",
        "trees = []\n",
        "for _ in range(number_of_examples):\n",
        "    tree = DecisionTreeClassifier(max_depth=max_depth)\n",
        "    tree.fit(X_train, y_train - Fm)\n",
        "    Fm += tree.predict(X_train)\n",
        "    trees.append(tree)\n",
        "\n",
        "test_y_hat = jnp.add(jnp.array(F0), jnp.sum(jnp.array([t.predict(X_test) for t in trees]), axis=0))\n",
        "train_y_hat = jnp.add(jnp.array(F0), jnp.sum(jnp.array([t.predict(X_train) for t in trees]), axis=0))\n",
        "\n",
        "acc = 0\n",
        "for i in range(len(y_train)):\n",
        "  if (train_y_hat[i] == y_train[i]):\n",
        "    acc += 1\n",
        "\n",
        "print(\"Training accuracy: \" + str(acc / len(y_train)))\n",
        "acc = 0\n",
        "for i in range(len(y_test)):\n",
        "  if (test_y_hat[i] == jnp.round_(jnp.array(y_test)[i])):\n",
        "    acc += 1\n",
        "print(\"Validation accuracy: \" + str(acc / len(y_test)))"
      ],
      "metadata": {
        "colab": {
          "base_uri": "https://localhost:8080/"
        },
        "id": "vbWg74XDS77x",
        "outputId": "c7508c11-8d59-49d8-f260-989585375041"
      },
      "execution_count": 90,
      "outputs": [
        {
          "output_type": "stream",
          "name": "stderr",
          "text": [
            "/usr/local/lib/python3.7/dist-packages/ipykernel_launcher.py:5: UserWarning: Explicitly requested dtype int requested in astype is not available, and will be truncated to dtype int32. To enable more dtypes, set the jax_enable_x64 configuration option or the JAX_ENABLE_X64 shell environment variable. See https://github.com/google/jax#current-gotchas for more.\n",
            "  \"\"\"\n"
          ]
        },
        {
          "output_type": "stream",
          "name": "stdout",
          "text": [
            "Training accuracy: 1.0\n",
            "Validation accuracy: 0.9888888888888889\n"
          ]
        }
      ]
    },
    {
      "cell_type": "markdown",
      "source": [
        "This function plots the model predictions which was provided in class for learning purposes and was edited for our model."
      ],
      "metadata": {
        "id": "sPGQijgzMB1X"
      }
    },
    {
      "cell_type": "code",
      "source": [
        "def plot_predictions(regressors, X, y, axes, label=None, style=\"r-\", data_style=\"b.\", data_label=None):\n",
        "\n",
        "  y_hat = sum(regressor.predict(X) for regressor in regressors)\n",
        "\n",
        "\n",
        "  plt.plot(X, y, data_style, label=data_label)\n",
        "  plt.plot(X, y_hat, style, linewidth=2, label=label)\n",
        "\n",
        "  if label or data_label:\n",
        "    plt.legend(loc=\"right\")\n",
        "\n",
        "  plt.ylabel(\"$y$\")\n",
        "  plt.xlabel(\"$X$\")\n",
        "  plt.show()\n"
      ],
      "metadata": {
        "id": "foKtYf61W-6c"
      },
      "execution_count": 91,
      "outputs": []
    },
    {
      "cell_type": "markdown",
      "source": [
        "Using the saved models we now graph our model to further see our accuracy"
      ],
      "metadata": {
        "id": "RaSSTRMhQmD1"
      }
    },
    {
      "cell_type": "code",
      "source": [
        "\n",
        "preds = plot_predictions(\n",
        "    trees, X_train, y_train, axes=[-5, 5, -0.2, 1.2], label=\"Model\", style=\"g-\", data_label=\"Training set\"\n",
        ")\n",
        "\n",
        "preds = plot_predictions(\n",
        "    trees, X_test, y_test, axes=[-5, 5, -0.2, 1.2], label=\"Model\", style=\"g-\", data_label=\"Testing set\"\n",
        ")"
      ],
      "metadata": {
        "colab": {
          "base_uri": "https://localhost:8080/",
          "height": 545
        },
        "id": "27g0uTfdXAYP",
        "outputId": "3408b71e-9d51-40d2-f94e-27406af5221b"
      },
      "execution_count": 92,
      "outputs": [
        {
          "output_type": "display_data",
          "data": {
            "text/plain": [
              "<Figure size 432x288 with 1 Axes>"
            ],
            "image/png": "[encoded data removed]"
          },
          "metadata": {
            "needs_background": "light"
          }
        },
        {
          "output_type": "display_data",
          "data": {
            "text/plain": [
              "<Figure size 432x288 with 1 Axes>"
            ],
            "image/png": "[encoded data removed]"
          },
          "metadata": {
            "needs_background": "light"
          }
        }
      ]
    },
    {
      "cell_type": "markdown",
      "source": [
        "## EMG Dataset"
      ],
      "metadata": {
        "id": "ojpc90cz-0xs"
      }
    },
    {
      "cell_type": "code",
      "source": [
        "from google.colab import drive\n",
        "drive.mount('/content/gdrive')"
      ],
      "metadata": {
        "colab": {
          "base_uri": "https://localhost:8080/"
        },
        "id": "wntsYFPoe3kl",
        "outputId": "5cb3b5a0-5405-4ec4-fc0d-7e414e575758"
      },
      "execution_count": 93,
      "outputs": [
        {
          "output_type": "stream",
          "name": "stdout",
          "text": [
            "Drive already mounted at /content/gdrive; to attempt to forcibly remount, call drive.mount(\"/content/gdrive\", force_remount=True).\n"
          ]
        }
      ]
    },
    {
      "cell_type": "markdown",
      "source": [
        "Accessing and Opening the EMG dataset, and collecting the data required to implement a model."
      ],
      "metadata": {
        "id": "KRZQHQ_ULcdW"
      }
    },
    {
      "cell_type": "code",
      "source": [
        "import os\n",
        "\n",
        "\n",
        "actions = {} #defining an empty dictionary for action names and corresponding labels\n",
        "\n",
        "# Using all subjects' data\n",
        "data_dirs = [\"gdrive/MyDrive/EMG Physical Action Data Set/sub1/Aggressive/txt/\",\n",
        "             \"gdrive/MyDrive/EMG Physical Action Data Set/sub1/Normal/txt/\",\n",
        "             \"gdrive/MyDrive/EMG Physical Action Data Set/sub2/Aggressive/txt/\",\n",
        "             \"gdrive/MyDrive/EMG Physical Action Data Set/sub2/Normal/txt/\",\n",
        "             \"gdrive/MyDrive/EMG Physical Action Data Set/sub3/Aggressive/txt/\",\n",
        "             \"gdrive/MyDrive/EMG Physical Action Data Set/sub3/Normal/txt/\",\n",
        "             \"gdrive/MyDrive/EMG Physical Action Data Set/sub4/Aggressive/txt/\",\n",
        "             \"gdrive/MyDrive/EMG Physical Action Data Set/sub4/Normal/txt/\",]\n",
        "\n",
        "ind = 0\n",
        "data = pd.DataFrame()\n",
        "\n",
        "for dirs in data_dirs:\n",
        "  for files in os.listdir(dirs):\n",
        "    with open(os.path.join(dirs, files), \"r\") as f:  # from all the files within all the dirs, read the tab separated files.\n",
        "     # Extracting the 8 columns names from filenames\n",
        "      temp = pd.read_csv(f.name, sep = \"\\t\", header = None, names = [\"ch\" + str(i) for i in range(1, 9)])\n",
        "\n",
        "      # chunking using Max of every 10 sequential values.\n",
        "      temp_chunked = pd.DataFrame()\n",
        "\n",
        "      for i in range(0, len(temp), 10):\n",
        "        temp_chunked = temp_chunked.append(temp.iloc[i:i+10].max(), ignore_index = True)\n",
        "\n",
        "      # Defining the class labels \n",
        "      labels = [files[:-4] for i in range(len(temp_chunked))] # remove the last 4 characters=\".txt\" from the filename to get the activity name\n",
        "      actions[files[:-4]] = ind # We have about 20 activity classes and they are assigned a numeric labels in the actions dictionary.\n",
        "      temp_chunked[\"Action\"] = labels\n",
        "\n",
        "      # Final Data\n",
        "      data = pd.concat([data, temp_chunked])\n",
        "\n",
        "      ind+=1\n",
        "\n",
        "print(actions)"
      ],
      "metadata": {
        "id": "o4ABJQP3d38n",
        "colab": {
          "base_uri": "https://localhost:8080/"
        },
        "outputId": "e1491162-eccc-4bf4-c354-1e3de79dc63d"
      },
      "execution_count": 94,
      "outputs": [
        {
          "output_type": "stream",
          "name": "stdout",
          "text": [
            "{'Slapping': 61, 'Sidekicking': 60, 'Pushing': 62, 'Punching': 65, 'Pulling': 64, 'Kneeing': 63, 'Headering': 66, 'Hamering': 67, 'Frontkicking': 68, 'Elbowing': 69, 'Waving': 70, 'Walking': 72, 'Running': 73, 'Standing': 74, 'Jumping': 71, 'Hugging': 76, 'Handshaking': 77, 'Seating': 75, 'Bowing': 78, 'Clapping': 79}\n"
          ]
        }
      ]
    },
    {
      "cell_type": "code",
      "source": [
        "data.head(100)"
      ],
      "metadata": {
        "id": "ZpFWVYSuhsY6",
        "colab": {
          "base_uri": "https://localhost:8080/",
          "height": 419
        },
        "outputId": "8c304fc1-4306-4b8f-9cb4-2c69aa394cba"
      },
      "execution_count": 95,
      "outputs": [
        {
          "output_type": "execute_result",
          "data": {
            "text/plain": [
              "       ch1     ch2    ch3    ch4     ch5    ch6     ch7     ch8    Action\n",
              "0      2.0   113.0  129.0   95.0 -1042.0  845.0   -94.0  -407.0  Slapping\n",
              "1   4000.0   250.0  -54.0  142.0 -2550.0  303.0 -1458.0  1765.0  Slapping\n",
              "2   2410.0  1516.0  803.0    8.0  3284.0  309.0 -1877.0  1199.0  Slapping\n",
              "3  -1556.0   876.0  710.0   85.0  4000.0  213.0 -1517.0   646.0  Slapping\n",
              "4   4000.0   275.0  304.0  137.0  4000.0  180.0   238.0   251.0  Slapping\n",
              "..     ...     ...    ...    ...     ...    ...     ...     ...       ...\n",
              "95    74.0    40.0   93.0  142.0   407.0  230.0 -4000.0   336.0  Slapping\n",
              "96   188.0   130.0  400.0   76.0  1525.0  183.0 -3924.0   418.0  Slapping\n",
              "97   260.0   164.0  -49.0  116.0  1660.0  449.0  1866.0   145.0  Slapping\n",
              "98     8.0   160.0  241.0   92.0  1242.0  367.0  4000.0  1338.0  Slapping\n",
              "99   554.0   205.0  331.0   59.0   932.0  336.0  4000.0   487.0  Slapping\n",
              "\n",
              "[100 rows x 9 columns]"
            ],
            "text/html": [
              "\n",
              "  <div id=\"df-3c936087-a7ed-4869-9e10-f56c8e10f06b\">\n",
              "    <div class=\"colab-df-container\">\n",
              "      <div>\n",
              "<style scoped>\n",
              "    .dataframe tbody tr th:only-of-type {\n",
              "        vertical-align: middle;\n",
              "    }\n",
              "\n",
              "    .dataframe tbody tr th {\n",
              "        vertical-align: top;\n",
              "    }\n",
              "\n",
              "    .dataframe thead th {\n",
              "        text-align: right;\n",
              "    }\n",
              "</style>\n",
              "<table border=\"1\" class=\"dataframe\">\n",
              "  <thead>\n",
              "    <tr style=\"text-align: right;\">\n",
              "      <th></th>\n",
              "      <th>ch1</th>\n",
              "      <th>ch2</th>\n",
              "      <th>ch3</th>\n",
              "      <th>ch4</th>\n",
              "      <th>ch5</th>\n",
              "      <th>ch6</th>\n",
              "      <th>ch7</th>\n",
              "      <th>ch8</th>\n",
              "      <th>Action</th>\n",
              "    </tr>\n",
              "  </thead>\n",
              "  <tbody>\n",
              "    <tr>\n",
              "      <th>0</th>\n",
              "      <td>2.0</td>\n",
              "      <td>113.0</td>\n",
              "      <td>129.0</td>\n",
              "      <td>95.0</td>\n",
              "      <td>-1042.0</td>\n",
              "      <td>845.0</td>\n",
              "      <td>-94.0</td>\n",
              "      <td>-407.0</td>\n",
              "      <td>Slapping</td>\n",
              "    </tr>\n",
              "    <tr>\n",
              "      <th>1</th>\n",
              "      <td>4000.0</td>\n",
              "      <td>250.0</td>\n",
              "      <td>-54.0</td>\n",
              "      <td>142.0</td>\n",
              "      <td>-2550.0</td>\n",
              "      <td>303.0</td>\n",
              "      <td>-1458.0</td>\n",
              "      <td>1765.0</td>\n",
              "      <td>Slapping</td>\n",
              "    </tr>\n",
              "    <tr>\n",
              "      <th>2</th>\n",
              "      <td>2410.0</td>\n",
              "      <td>1516.0</td>\n",
              "      <td>803.0</td>\n",
              "      <td>8.0</td>\n",
              "      <td>3284.0</td>\n",
              "      <td>309.0</td>\n",
              "      <td>-1877.0</td>\n",
              "      <td>1199.0</td>\n",
              "      <td>Slapping</td>\n",
              "    </tr>\n",
              "    <tr>\n",
              "      <th>3</th>\n",
              "      <td>-1556.0</td>\n",
              "      <td>876.0</td>\n",
              "      <td>710.0</td>\n",
              "      <td>85.0</td>\n",
              "      <td>4000.0</td>\n",
              "      <td>213.0</td>\n",
              "      <td>-1517.0</td>\n",
              "      <td>646.0</td>\n",
              "      <td>Slapping</td>\n",
              "    </tr>\n",
              "    <tr>\n",
              "      <th>4</th>\n",
              "      <td>4000.0</td>\n",
              "      <td>275.0</td>\n",
              "      <td>304.0</td>\n",
              "      <td>137.0</td>\n",
              "      <td>4000.0</td>\n",
              "      <td>180.0</td>\n",
              "      <td>238.0</td>\n",
              "      <td>251.0</td>\n",
              "      <td>Slapping</td>\n",
              "    </tr>\n",
              "    <tr>\n",
              "      <th>...</th>\n",
              "      <td>...</td>\n",
              "      <td>...</td>\n",
              "      <td>...</td>\n",
              "      <td>...</td>\n",
              "      <td>...</td>\n",
              "      <td>...</td>\n",
              "      <td>...</td>\n",
              "      <td>...</td>\n",
              "      <td>...</td>\n",
              "    </tr>\n",
              "    <tr>\n",
              "      <th>95</th>\n",
              "      <td>74.0</td>\n",
              "      <td>40.0</td>\n",
              "      <td>93.0</td>\n",
              "      <td>142.0</td>\n",
              "      <td>407.0</td>\n",
              "      <td>230.0</td>\n",
              "      <td>-4000.0</td>\n",
              "      <td>336.0</td>\n",
              "      <td>Slapping</td>\n",
              "    </tr>\n",
              "    <tr>\n",
              "      <th>96</th>\n",
              "      <td>188.0</td>\n",
              "      <td>130.0</td>\n",
              "      <td>400.0</td>\n",
              "      <td>76.0</td>\n",
              "      <td>1525.0</td>\n",
              "      <td>183.0</td>\n",
              "      <td>-3924.0</td>\n",
              "      <td>418.0</td>\n",
              "      <td>Slapping</td>\n",
              "    </tr>\n",
              "    <tr>\n",
              "      <th>97</th>\n",
              "      <td>260.0</td>\n",
              "      <td>164.0</td>\n",
              "      <td>-49.0</td>\n",
              "      <td>116.0</td>\n",
              "      <td>1660.0</td>\n",
              "      <td>449.0</td>\n",
              "      <td>1866.0</td>\n",
              "      <td>145.0</td>\n",
              "      <td>Slapping</td>\n",
              "    </tr>\n",
              "    <tr>\n",
              "      <th>98</th>\n",
              "      <td>8.0</td>\n",
              "      <td>160.0</td>\n",
              "      <td>241.0</td>\n",
              "      <td>92.0</td>\n",
              "      <td>1242.0</td>\n",
              "      <td>367.0</td>\n",
              "      <td>4000.0</td>\n",
              "      <td>1338.0</td>\n",
              "      <td>Slapping</td>\n",
              "    </tr>\n",
              "    <tr>\n",
              "      <th>99</th>\n",
              "      <td>554.0</td>\n",
              "      <td>205.0</td>\n",
              "      <td>331.0</td>\n",
              "      <td>59.0</td>\n",
              "      <td>932.0</td>\n",
              "      <td>336.0</td>\n",
              "      <td>4000.0</td>\n",
              "      <td>487.0</td>\n",
              "      <td>Slapping</td>\n",
              "    </tr>\n",
              "  </tbody>\n",
              "</table>\n",
              "<p>100 rows × 9 columns</p>\n",
              "</div>\n",
              "      <button class=\"colab-df-convert\" onclick=\"convertToInteractive('df-3c936087-a7ed-4869-9e10-f56c8e10f06b')\"\n",
              "              title=\"Convert this dataframe to an interactive table.\"\n",
              "              style=\"display:none;\">\n",
              "        \n",
              "  <svg xmlns=\"http://www.w3.org/2000/svg\" height=\"24px\"viewBox=\"0 0 24 24\"\n",
              "       width=\"24px\">\n",
              "    <path d=\"M0 0h24v24H0V0z\" fill=\"none\"/>\n",
              "    <path d=\"M18.56 5.44l.94 2.06.94-2.06 2.06-.94-2.06-.94-.94-2.06-.94 2.06-2.06.94zm-11 1L8.5 8.5l.94-2.06 2.06-.94-2.06-.94L8.5 2.5l-.94 2.06-2.06.94zm10 10l.94 2.06.94-2.06 2.06-.94-2.06-.94-.94-2.06-.94 2.06-2.06.94z\"/><path d=\"M17.41 7.96l-1.37-1.37c-.4-.4-.92-.59-1.43-.59-.52 0-1.04.2-1.43.59L10.3 9.45l-7.72 7.72c-.78.78-.78 2.05 0 2.83L4 21.41c.39.39.9.59 1.41.59.51 0 1.02-.2 1.41-.59l7.78-7.78 2.81-2.81c.8-.78.8-2.07 0-2.86zM5.41 20L4 18.59l7.72-7.72 1.47 1.35L5.41 20z\"/>\n",
              "  </svg>\n",
              "      </button>\n",
              "      \n",
              "  <style>\n",
              "    .colab-df-container {\n",
              "      display:flex;\n",
              "      flex-wrap:wrap;\n",
              "      gap: 12px;\n",
              "    }\n",
              "\n",
              "    .colab-df-convert {\n",
              "      background-color: #E8F0FE;\n",
              "      border: none;\n",
              "      border-radius: 50%;\n",
              "      cursor: pointer;\n",
              "      display: none;\n",
              "      fill: #1967D2;\n",
              "      height: 32px;\n",
              "      padding: 0 0 0 0;\n",
              "      width: 32px;\n",
              "    }\n",
              "\n",
              "    .colab-df-convert:hover {\n",
              "      background-color: #E2EBFA;\n",
              "      box-shadow: 0px 1px 2px rgba(60, 64, 67, 0.3), 0px 1px 3px 1px rgba(60, 64, 67, 0.15);\n",
              "      fill: #174EA6;\n",
              "    }\n",
              "\n",
              "    [theme=dark] .colab-df-convert {\n",
              "      background-color: #3B4455;\n",
              "      fill: #D2E3FC;\n",
              "    }\n",
              "\n",
              "    [theme=dark] .colab-df-convert:hover {\n",
              "      background-color: #434B5C;\n",
              "      box-shadow: 0px 1px 3px 1px rgba(0, 0, 0, 0.15);\n",
              "      filter: drop-shadow(0px 1px 2px rgba(0, 0, 0, 0.3));\n",
              "      fill: #FFFFFF;\n",
              "    }\n",
              "  </style>\n",
              "\n",
              "      <script>\n",
              "        const buttonEl =\n",
              "          document.querySelector('#df-3c936087-a7ed-4869-9e10-f56c8e10f06b button.colab-df-convert');\n",
              "        buttonEl.style.display =\n",
              "          google.colab.kernel.accessAllowed ? 'block' : 'none';\n",
              "\n",
              "        async function convertToInteractive(key) {\n",
              "          const element = document.querySelector('#df-3c936087-a7ed-4869-9e10-f56c8e10f06b');\n",
              "          const dataTable =\n",
              "            await google.colab.kernel.invokeFunction('convertToInteractive',\n",
              "                                                     [key], {});\n",
              "          if (!dataTable) return;\n",
              "\n",
              "          const docLinkHtml = 'Like what you see? Visit the ' +\n",
              "            '<a target=\"_blank\" href=https://colab.research.google.com/notebooks/data_table.ipynb>data table notebook</a>'\n",
              "            + ' to learn more about interactive tables.';\n",
              "          element.innerHTML = '';\n",
              "          dataTable['output_type'] = 'display_data';\n",
              "          await google.colab.output.renderOutput(dataTable, element);\n",
              "          const docLink = document.createElement('div');\n",
              "          docLink.innerHTML = docLinkHtml;\n",
              "          element.appendChild(docLink);\n",
              "        }\n",
              "      </script>\n",
              "    </div>\n",
              "  </div>\n",
              "  "
            ]
          },
          "metadata": {},
          "execution_count": 95
        }
      ]
    },
    {
      "cell_type": "markdown",
      "source": [
        "Defining our data:\n",
        "<br>\n",
        "X is all the data without the labels of what action it is\n",
        "<br>\n",
        "Y is the list of actions the coresponding data points are"
      ],
      "metadata": {
        "id": "AC5MXRkiKa65"
      }
    },
    {
      "cell_type": "code",
      "source": [
        "x=data.drop([\"Action\"], axis=1)\n",
        "y=data[\"Action\"]\n",
        "y = y.map(actions)"
      ],
      "metadata": {
        "id": "KupHBISLiYEl"
      },
      "execution_count": 96,
      "outputs": []
    },
    {
      "cell_type": "markdown",
      "source": [
        "Seperate the data for training and testing purposes"
      ],
      "metadata": {
        "id": "MMbep1lrLVIM"
      }
    },
    {
      "cell_type": "code",
      "source": [
        "from sklearn.model_selection import train_test_split\n",
        "import numpy as np\n",
        "\n",
        "\n",
        "X = jnp.array(x.values.tolist())\n",
        "y = jnp.array(y.values.tolist())\n",
        "\n",
        "X_train, X_test, Y_train, Y_test = train_test_split(X, y, test_size = 0.2) # 80-20 split\n",
        "print(f\"Sizes of the sets created are:\\nTraining set:{X_train.shape[0]}\\nTest set:{X_test.shape[0]}\")"
      ],
      "metadata": {
        "id": "dKhboRlXio5Z",
        "colab": {
          "base_uri": "https://localhost:8080/"
        },
        "outputId": "7e87bb4c-dad0-4f0b-84f3-1783e9a37596"
      },
      "execution_count": 97,
      "outputs": [
        {
          "output_type": "stream",
          "name": "stdout",
          "text": [
            "Sizes of the sets created are:\n",
            "Training set:63810\n",
            "Test set:15953\n"
          ]
        }
      ]
    },
    {
      "cell_type": "markdown",
      "source": [
        "Implementing the Gradient Descent using Sklearn's DecisionTreeClassifier spoken about above and also implemented previously with the cosinusoidal dataset."
      ],
      "metadata": {
        "id": "z6b_P1VkK5dC"
      }
    },
    {
      "cell_type": "code",
      "source": [
        "max_depth = 7\n",
        "\n",
        "# Training the sklearn DecisionTreeClassifier as Gradient Boosting\n",
        "y_train = jnp.round_(jnp.array(y_train))\n",
        "F0 = y_train.mean().astype('int')\n",
        "Fm = F0\n",
        "trees = []\n",
        "for _ in range(number_of_examples):\n",
        "    tree = DecisionTreeClassifier(max_depth=max_depth)\n",
        "    tree.fit(X_train, Y_train - Fm)\n",
        "    Fm += tree.predict(X_train)\n",
        "    trees.append(tree)\n",
        "\n",
        "\n",
        "test_y_hat = jnp.add(jnp.array(F0), jnp.sum(jnp.array([t.predict(X_test) for t in trees]), axis=0))\n",
        "train_y_hat = jnp.add(jnp.array(F0), jnp.sum(jnp.array([t.predict(X_train) for t in trees]), axis=0))\n",
        "\n",
        "# Calculating the accuracy of hte model\n",
        "acc = 0\n",
        "for i in range(len(Y_train)):\n",
        "  if (train_y_hat[i] == Y_train[i]):\n",
        "    acc += 1\n",
        "\n",
        "print(\"Training accuracy: \" + str(acc / len(Y_train)))\n",
        "acc = 0\n",
        "for i in range(len(Y_test)):\n",
        "  if (test_y_hat[i] == Y_test[i]):\n",
        "    acc += 1\n",
        "print(\"Validation accuracy: \" + str(acc / len(Y_test)))"
      ],
      "metadata": {
        "id": "qsWh8Rzwjs0b",
        "colab": {
          "base_uri": "https://localhost:8080/"
        },
        "outputId": "4d9e9264-1151-4b5a-c18c-5201cdd8b529"
      },
      "execution_count": 98,
      "outputs": [
        {
          "output_type": "stream",
          "name": "stderr",
          "text": [
            "/usr/local/lib/python3.7/dist-packages/ipykernel_launcher.py:5: UserWarning: Explicitly requested dtype int requested in astype is not available, and will be truncated to dtype int32. To enable more dtypes, set the jax_enable_x64 configuration option or the JAX_ENABLE_X64 shell environment variable. See https://github.com/google/jax#current-gotchas for more.\n",
            "  \"\"\"\n"
          ]
        },
        {
          "output_type": "stream",
          "name": "stdout",
          "text": [
            "Training accuracy: 0.33253408556652564\n",
            "Validation accuracy: 0.3211935059236507\n"
          ]
        }
      ]
    }
  ]
}